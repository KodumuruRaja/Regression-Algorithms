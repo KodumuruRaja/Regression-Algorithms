{
  "nbformat": 4,
  "nbformat_minor": 0,
  "metadata": {
    "colab": {
      "name": "MARS1.ipynb",
      "provenance": [],
      "collapsed_sections": [],
      "authorship_tag": "ABX9TyP43uvv1/RiEkfHADEO3Fxb",
      "include_colab_link": true
    },
    "kernelspec": {
      "name": "python3",
      "display_name": "Python 3"
    }
  },
  "cells": [
    {
      "cell_type": "markdown",
      "metadata": {
        "id": "view-in-github",
        "colab_type": "text"
      },
      "source": [
        "<a href=\"https://colab.research.google.com/github/KodumuruRaja/Regression-Algorithms/blob/main/Multivariate-Adaptive-Regression-Splines1-(MARS).ipynb\" target=\"_parent\"><img src=\"https://colab.research.google.com/assets/colab-badge.svg\" alt=\"Open In Colab\"/></a>"
      ]
    },
    {
      "cell_type": "code",
      "metadata": {
        "colab": {
          "base_uri": "https://localhost:8080/"
        },
        "id": "BbPg5golEjo3",
        "outputId": "4c5e38bc-4a81-4bef-988f-d1885179197b"
      },
      "source": [
        "pip install sklearn-contrib-py-earth"
      ],
      "execution_count": null,
      "outputs": [
        {
          "output_type": "stream",
          "text": [
            "Requirement already satisfied: sklearn-contrib-py-earth in /usr/local/lib/python3.6/dist-packages (0.1.0)\n",
            "Requirement already satisfied: six in /usr/local/lib/python3.6/dist-packages (from sklearn-contrib-py-earth) (1.15.0)\n",
            "Requirement already satisfied: scikit-learn>=0.16 in /usr/local/lib/python3.6/dist-packages (from sklearn-contrib-py-earth) (0.22.2.post1)\n",
            "Requirement already satisfied: scipy>=0.16 in /usr/local/lib/python3.6/dist-packages (from sklearn-contrib-py-earth) (1.4.1)\n",
            "Requirement already satisfied: joblib>=0.11 in /usr/local/lib/python3.6/dist-packages (from scikit-learn>=0.16->sklearn-contrib-py-earth) (1.0.0)\n",
            "Requirement already satisfied: numpy>=1.11.0 in /usr/local/lib/python3.6/dist-packages (from scikit-learn>=0.16->sklearn-contrib-py-earth) (1.19.5)\n"
          ],
          "name": "stdout"
        }
      ]
    },
    {
      "cell_type": "code",
      "metadata": {
        "colab": {
          "base_uri": "https://localhost:8080/"
        },
        "id": "UnaQEvuBF7bQ",
        "outputId": "c24b39dc-b772-4903-85f2-612bc3af7402"
      },
      "source": [
        "# evaluate multivariate adaptive regression splines for regression\r\n",
        "from numpy import mean\r\n",
        "from numpy import std\r\n",
        "from sklearn.datasets import make_regression\r\n",
        "from sklearn.model_selection import cross_val_score\r\n",
        "from sklearn.model_selection import RepeatedKFold\r\n",
        "from pyearth import Earth\r\n",
        "# define dataset\r\n",
        "X, y = make_regression(n_samples=10000, n_features=20, n_informative=15, noise=0.5, random_state=7)\r\n",
        "# define the model\r\n",
        "model = Earth()\r\n",
        "# define the evaluation procedure\r\n",
        "cv = RepeatedKFold(n_splits=10, n_repeats=3, random_state=1)\r\n",
        "# evaluate the model and collect results\r\n",
        "n_scores = cross_val_score(model, X, y, scoring='neg_mean_absolute_error', cv=cv, n_jobs=-1)\r\n",
        "# report performance\r\n",
        "print('MAE: %.3f (%.3f)' % (mean(n_scores), std(n_scores)))"
      ],
      "execution_count": null,
      "outputs": [
        {
          "output_type": "stream",
          "text": [
            "MAE: -4.041 (0.085)\n"
          ],
          "name": "stdout"
        }
      ]
    },
    {
      "cell_type": "code",
      "metadata": {
        "colab": {
          "base_uri": "https://localhost:8080/"
        },
        "id": "duOy9bl5F_sj",
        "outputId": "9549a1bd-8d7a-4a3d-a601-a107994ec94c"
      },
      "source": [
        "# define the model\r\n",
        "model = Earth()\r\n",
        "# fit the model on the whole dataset\r\n",
        "model.fit(X, y)"
      ],
      "execution_count": null,
      "outputs": [
        {
          "output_type": "stream",
          "text": [
            "/usr/local/lib/python3.6/dist-packages/pyearth/earth.py:802: FutureWarning: `rcond` parameter will change to the default of machine precision times ``max(M, N)`` where M and N are the input matrix dimensions.\n",
            "To use the future default and silence this warning we advise to pass `rcond=None`, to keep using the old, explicitly pass `rcond=-1`.\n",
            "  pruning_passer.run()\n",
            "/usr/local/lib/python3.6/dist-packages/pyearth/earth.py:1055: FutureWarning: `rcond` parameter will change to the default of machine precision times ``max(M, N)`` where M and N are the input matrix dimensions.\n",
            "To use the future default and silence this warning we advise to pass `rcond=None`, to keep using the old, explicitly pass `rcond=-1`.\n",
            "  coef, resid = np.linalg.lstsq(B, weighted_y[:, i])[0:2]\n"
          ],
          "name": "stderr"
        },
        {
          "output_type": "execute_result",
          "data": {
            "text/plain": [
              "Earth(allow_linear=None, allow_missing=False, check_every=None,\n",
              "      enable_pruning=True, endspan=None, endspan_alpha=None, fast_K=None,\n",
              "      fast_h=None, feature_importance_type=None, max_degree=None,\n",
              "      max_terms=None, min_search_points=None, minspan=None, minspan_alpha=None,\n",
              "      penalty=None, smooth=None, thresh=None, use_fast=None, verbose=0,\n",
              "      zero_tol=None)"
            ]
          },
          "metadata": {
            "tags": []
          },
          "execution_count": 3
        }
      ]
    },
    {
      "cell_type": "code",
      "metadata": {
        "colab": {
          "base_uri": "https://localhost:8080/"
        },
        "id": "PpUq5MooGJg0",
        "outputId": "1b0d4630-6d3e-4277-d9cb-26b1c0aaa930"
      },
      "source": [
        "# make a prediction with multivariate adaptive regression splines for regression\r\n",
        "from sklearn.datasets import make_regression\r\n",
        "from pyearth import Earth\r\n",
        "# define dataset\r\n",
        "X, y = make_regression(n_samples=10000, n_features=20, n_informative=15, noise=0.5, random_state=7)\r\n",
        "# define the model\r\n",
        "model = Earth()\r\n",
        "# fit the model on the whole dataset\r\n",
        "model.fit(X, y)\r\n",
        "# define a single row of data\r\n",
        "row = [-0.6305395, -0.1381388, -1.23954844, 0.32992515, -0.36612979, 0.74962718, 0.21532504, 0.90983424, -0.60309177, -1.46455027, -0.06788126, -0.30329357, -0.60350541, 0.7369983, 0.21774321, -1.2365456, 0.69159078, -0.16074843, -1.39313206, 1.16044301]\r\n",
        "# make a prediction for a single row of data\r\n",
        "yhat = model.predict([row])\r\n",
        "# summarize the prediction\r\n",
        "print('Prediction: %d' % yhat[0])"
      ],
      "execution_count": null,
      "outputs": [
        {
          "output_type": "stream",
          "text": [
            "/usr/local/lib/python3.6/dist-packages/pyearth/earth.py:802: FutureWarning: `rcond` parameter will change to the default of machine precision times ``max(M, N)`` where M and N are the input matrix dimensions.\n",
            "To use the future default and silence this warning we advise to pass `rcond=None`, to keep using the old, explicitly pass `rcond=-1`.\n",
            "  pruning_passer.run()\n"
          ],
          "name": "stderr"
        },
        {
          "output_type": "stream",
          "text": [
            "Prediction: -393\n"
          ],
          "name": "stdout"
        },
        {
          "output_type": "stream",
          "text": [
            "/usr/local/lib/python3.6/dist-packages/pyearth/earth.py:1055: FutureWarning: `rcond` parameter will change to the default of machine precision times ``max(M, N)`` where M and N are the input matrix dimensions.\n",
            "To use the future default and silence this warning we advise to pass `rcond=None`, to keep using the old, explicitly pass `rcond=-1`.\n",
            "  coef, resid = np.linalg.lstsq(B, weighted_y[:, i])[0:2]\n"
          ],
          "name": "stderr"
        }
      ]
    },
    {
      "cell_type": "code",
      "metadata": {
        "id": "Kcx_AglXGM6e"
      },
      "source": [
        ""
      ],
      "execution_count": null,
      "outputs": []
    }
  ]
}