{
  "nbformat": 4,
  "nbformat_minor": 0,
  "metadata": {
    "colab": {
      "name": "Locally Weighted Regression.ipynb",
      "provenance": [],
      "collapsed_sections": [],
      "authorship_tag": "ABX9TyNjoNR8xBrkeBE8vfq5RjWg",
      "include_colab_link": true
    },
    "kernelspec": {
      "name": "python3",
      "display_name": "Python 3"
    }
  },
  "cells": [
    {
      "cell_type": "markdown",
      "metadata": {
        "id": "view-in-github",
        "colab_type": "text"
      },
      "source": [
        "<a href=\"https://colab.research.google.com/github/KodumuruRaja/Regression-Algorithms/blob/main/Locally-Weighted-Regression.ipynb\" target=\"_parent\"><img src=\"https://colab.research.google.com/assets/colab-badge.svg\" alt=\"Open In Colab\"/></a>"
      ]
    },
    {
      "cell_type": "code",
      "metadata": {
        "id": "NThwjWOLusKl"
      },
      "source": [
        "import numpy as np\r\n",
        "import pandas as pd\r\n",
        "import matplotlib.pyplot as plt\r\n",
        "import seaborn as sns\r\n",
        "%matplotlib inline"
      ],
      "execution_count": null,
      "outputs": []
    },
    {
      "cell_type": "code",
      "metadata": {
        "colab": {
          "base_uri": "https://localhost:8080/",
          "height": 279
        },
        "id": "dfbruo9hvA7o",
        "outputId": "f5cd1db0-6a18-4507-8e26-f4547f2e6ee4"
      },
      "source": [
        "# Gaussian kernel\r\n",
        "def kernel(point, xmat, k):\r\n",
        "    m,n = np.shape(xmat)\r\n",
        "    weights = np.mat(np.eye((m)))\r\n",
        "    \r\n",
        "    for j in range(m):\r\n",
        "        diff = point - X[j]\r\n",
        "        weights[j, j] = np.exp(diff * diff.T / (-2.0 * k**2))\r\n",
        "    \r\n",
        "    return weights\r\n",
        "def localWeight(point, xmat, ymat, k):\r\n",
        "    wt = kernel(point, xmat, k)\r\n",
        "    W = (X.T * (wt*X)).I * (X.T * wt * ymat.T)\r\n",
        "    return W\r\n",
        "\r\n",
        "def localWeightRegression(xmat, ymat, k):\r\n",
        "    m,n = np.shape(xmat)\r\n",
        "    ypred = np.zeros(m)\r\n",
        "    \r\n",
        "    for i in range(m):\r\n",
        "        ypred[i] = xmat[i] * localWeight(xmat[i], xmat, ymat, k)\r\n",
        "        \r\n",
        "    return ypred\r\n",
        "df=sns.load_dataset('tips')\r\n",
        "x=np.array(df.total_bill)\r\n",
        "y=np.array(df.tip)\r\n",
        "mcolA=np.mat(x)\r\n",
        "mcolB=np.mat(y)\r\n",
        "m=np.shape(mcolB)[1]\r\n",
        "one=np.ones((1,m),dtype=int)\r\n",
        "# horizontal stacking\r\n",
        "X=np.hstack((one.T,mcolA.T))\r\n",
        "X.shape\r\n",
        "y_pred=localWeightRegression(X,mcolB,0.5)\r\n",
        "xsort = X.copy()\r\n",
        "xsort.sort(axis=0)\r\n",
        "plt.scatter(x,y, color='blue')\r\n",
        "plt.plot(xsort[:, 1], y_pred[X[:, 1].argsort(0)], color='yellow', linewidth=5)\r\n",
        "plt.xlabel('Total Bill')\r\n",
        "plt.ylabel('Tip')\r\n",
        "plt.show()"
      ],
      "execution_count": null,
      "outputs": [
        {
          "output_type": "display_data",
          "data": {
            "image/png": "[encoded data removed]",
            "text/plain": [
              "<Figure size 432x288 with 1 Axes>"
            ]
          },
          "metadata": {
            "tags": [],
            "needs_background": "light"
          }
        }
      ]
    },
    {
      "cell_type": "code",
      "metadata": {
        "id": "8zzJPt6h3FJ6"
      },
      "source": [
        ""
      ],
      "execution_count": null,
      "outputs": []
    }
  ]
}